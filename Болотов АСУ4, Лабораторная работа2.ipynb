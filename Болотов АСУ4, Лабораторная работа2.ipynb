{
 "cells": [
  {
   "cell_type": "markdown",
   "metadata": {},
   "source": [
    "Лабораторная работа №2 \n",
    "Задание 1.\n",
    "1. Закрывающие круглые/квадратные/фигурные скобки в многострочных конструкциях могут находиться под первымнепробельным символом последней строки списка.\n",
    "2. Пробелы - самый предпочтительный метод отступов.\n",
    "3. Максимальная длина строки - 79 символов.\n",
    "4. Каждый импорт, как правило, должен быть на отдельной строке.\n",
    "5. Импорты всегда помещаются в начале файла.\n",
    "6. Избегать пробелов непосредственно внутри круглых, квадратных или фигурных скобок, непосредственно перед запятой, точкой с запятой или двоеточием.\n",
    "7. Избегать использование более одного пробела вокруг оператора присваивания (или любого другого) для того, чтобы выровнять его с другим.\n",
    "8. Всегда окружать эти бинарные операторы одним пробелом с каждой стороны: присваивания (=, +=, -= и другие), сравнения (==, <, >, !=, <>, <=, >=, in, not in, is, is not), логические (and, or, not).\n",
    "9. Не использовать составные инструкции (несколько команд в одной строке).\n",
    "10. Иногда можно писать тело циклов while, for или ветку if в той же строке, если команда короткая, но если команд несколько, никогда так не писать. А также избегать длинных строк!"
   ]
  },
  {
   "cell_type": "code",
   "execution_count": 38,
   "metadata": {},
   "outputs": [
    {
     "name": "stdout",
     "output_type": "stream",
     "text": [
      "\n",
      "{'moisture': '7.5', 'weight': '130', 'bursting': '450', 'absorbency': '27', 'kink': '70'}\n",
      "Анализ выполнен\n"
     ]
    }
   ],
   "source": [
    "import this           # Импорты размещены по возрастанию названия потому что так код выглядит локаничнее\n",
    "import numpy          #5\n",
    "import matplotlib     #4\n",
    "\n",
    "parameters = [        #3\n",
    "    'moisture',       #6\n",
    "    'weight',\n",
    "    'bursting',\n",
    "    'absorbency',\n",
    "    'kink'\n",
    "    ]                 #1\n",
    "values = [            #7\n",
    "    '7.5',\n",
    "    '130',\n",
    "    '450',\n",
    "    '27',\n",
    "    '70'\n",
    "    ]\n",
    "\n",
    "analys = {parameters[i]:                      #9\n",
    "    values[i]\n",
    "    for i in range(0, len(parameters), 1)     #2\n",
    "    }                                         #6\n",
    "print()\n",
    "print(analys)\n",
    "\n",
    "if 'weight' in analys:                        #8\n",
    "    print('Анализ выполнен')\n",
    "else:                                         #10\n",
    "    print('Провести взвешивание образца') \n",
    "\n"
   ]
  },
  {
   "cell_type": "code",
   "execution_count": 39,
   "metadata": {},
   "outputs": [
    {
     "name": "stdout",
     "output_type": "stream",
     "text": [
      "сорт задан\n",
      "120\n"
     ]
    }
   ],
   "source": [
    "# Задание 2\n",
    "sort = ''\n",
    "def choose_sort():\n",
    "    global sort\n",
    "    sort = input('Введите сорт в соответсвии с заданием:')\n",
    "    if len(sort) == 3:\n",
    "        print('сорт задан')\n",
    "    else:\n",
    "        print('Пожалуйста, введите корректный сорт')\n",
    "        choose_sort()\n",
    "\n",
    "def show_sort():\n",
    "    print(sort)\n",
    "\n",
    "def main():\n",
    "    choose_sort()\n",
    "    show_sort()\n",
    "\n",
    "if __name__ == '__main__':\n",
    "    main()\n"
   ]
  },
  {
   "cell_type": "code",
   "execution_count": 73,
   "metadata": {},
   "outputs": [
    {
     "name": "stdout",
     "output_type": "stream",
     "text": [
      "{'subjects': ['Пермский край', 'Московская область', 'Херсонская область']}\n",
      "{'subjects': ['Пермский край', 'Московская область', 'Херсонская область', '1232', '332435435', '5445656', '656564645', '454545', '45454545', '454545454']}\n",
      "0\n",
      "1\n",
      "1024\n",
      "59049\n",
      "1048576\n",
      "9765625\n",
      "60466176\n",
      "282475249\n",
      "1073741824\n",
      "3486784401\n"
     ]
    }
   ],
   "source": [
    "# Задание 3,4\n",
    "from re import sub\n",
    "\n",
    "\n",
    "a=[['subjects', ['Пермский край', 'Московская область', 'Херсонская область']]]\n",
    "rus = dict(a) # Встроенная функция, позволяющая создать встроенный тип данных\n",
    "print(rus)\n",
    "a = 5                   # a, _b, c12 - глобальные переменные\n",
    "K = 11                  # K - константа \n",
    "_b = 7\n",
    "c12 = 9\n",
    "\n",
    "def joing():\n",
    "    while len(rus['subjects']) < 10:\n",
    "        sub = input(\"Введите название субъекта, входящего в состав РФ\")   # sub - переменная с вложенной видимостью\n",
    "        if sub in rus['subjects']:\n",
    "            print('Данный субъект уже внесён')\n",
    "            joing()\n",
    "        else: \n",
    "            rus['subjects'].append(sub)\n",
    "    print(rus)\n",
    "joing()\n",
    "\n",
    "for i in range(10):                  # i - локальная переменная\n",
    "    print(i**10)\n",
    "\n",
    "\n",
    "\n",
    "\n"
   ]
  },
  {
   "cell_type": "code",
   "execution_count": null,
   "metadata": {},
   "outputs": [],
   "source": [
    "# Создание словаря из строки\n",
    "a='Болотов Максим Вячеславович 25 Пермь ПЦБК инженер_АСУТП ПНИПУ 5 5 4 5 5' # Строка с информацией\n",
    "b=a.split()                                  # Создание из строки списка, содержащего строки\n",
    "b.insert(8, 'ЭТФ')                           # Добавление элемента в список\n",
    "print(b)\n",
    "person_information={}                        # Создание пустого словаря\n",
    "person_information['surname']=b[0]           # Добавление в словарь пар: ключ-значение \n",
    "person_information['name']=b[1]\n",
    "person_information['middlename']=b[2]\n",
    "person_information['age']=b[3]\n",
    "person_information['city']=b[4]\n",
    "person_information['place_of_work']=b[5]\n",
    "person_information['position']=b[6]\n",
    "person_information['university']=b[7]\n",
    "person_information['faculty']=b[8]\n",
    "person_information['marks']=[]               # Добавление в словарь списка оценок                                            \n",
    "for i in b[9:]:\n",
    "    person_information['marks'].append(int(i))\n",
    "print(person_information)                    # Вывод сформированного словаря \"Персональная информация\"\n"
   ]
  }
 ],
 "metadata": {
  "kernelspec": {
   "display_name": "Python 3.10.7 64-bit",
   "language": "python",
   "name": "python3"
  },
  "language_info": {
   "codemirror_mode": {
    "name": "ipython",
    "version": 3
   },
   "file_extension": ".py",
   "mimetype": "text/x-python",
   "name": "python",
   "nbconvert_exporter": "python",
   "pygments_lexer": "ipython3",
   "version": "3.10.7"
  },
  "orig_nbformat": 4,
  "vscode": {
   "interpreter": {
    "hash": "d823793300cfe8abe3cdd1cfe69844f11b3e6051b9f1b0d0b53f256ec76842e3"
   }
  }
 },
 "nbformat": 4,
 "nbformat_minor": 2
}
