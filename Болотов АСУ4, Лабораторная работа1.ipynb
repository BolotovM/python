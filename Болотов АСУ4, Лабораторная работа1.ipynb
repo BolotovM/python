{
 "cells": [
  {
   "cell_type": "code",
   "execution_count": 29,
   "metadata": {},
   "outputs": [
    {
     "name": "stdout",
     "output_type": "stream",
     "text": [
      "Повышенная влажность\n"
     ]
    }
   ],
   "source": [
    "#Лабораторная работа №1 \"Описание работы АСУТП для поддержания определённой влажности картона\"\n",
    "#1. Оповещение оператора\n",
    "v=int(input()) # v-влажность картонного полотна(показания приходят со сканера,%)\n",
    "if v<5:        # Допустимая влажность находится в пределах от 5 до 10%\n",
    "    print('Пониженная влажность')\n",
    "elif v>10:\n",
    "    print('Повышенная влажность')\n",
    "else:\n",
    "    print('Влажность в норме')"
   ]
  },
  {
   "cell_type": "code",
   "execution_count": 11,
   "metadata": {},
   "outputs": [
    {
     "name": "stdout",
     "output_type": "stream",
     "text": [
      "7\n",
      "Влажность в пределах нормы\n",
      "7\n",
      "Влажность в пределах нормы\n"
     ]
    }
   ],
   "source": [
    "#Отработка регулировки влажности в автоматическом режиме\n",
    "v=int(input())      # Фактические показания влажности(данные приходят в систему со сканера)\n",
    "while v<7:          # Идеальные показания влажности: 7%\n",
    "    v+=1            # При несоответсвии значения влажности норме, система отрабатывает циклы до тех пор\n",
    "    if v<7:         # пока влажность не вернётся в предел нормы(длобавляет/убывляет давление пара в системе)\n",
    "        continue    \n",
    "    else:           \n",
    "        print(v)    \n",
    "        print('Влажность в пределах нормы') # При возвращении влажности в норму система визуализирует это \n",
    "        break                               # на дисплей оператора\n",
    "while v>7:\n",
    "    v-=1\n",
    "    if v>7:\n",
    "        continue\n",
    "    else:\n",
    "        print(v)\n",
    "        print('Влажность в пределах нормы')\n",
    "        break\n",
    "print(v)\n",
    "print('Влажность в пределах нормы')    \n",
    "\n",
    "    \n",
    "        \n",
    "\n",
    "\n",
    "\n",
    "    \n",
    "      \n",
    "\n",
    "\n"
   ]
  }
 ],
 "metadata": {
  "kernelspec": {
   "display_name": "Python 3.10.7 64-bit",
   "language": "python",
   "name": "python3"
  },
  "language_info": {
   "codemirror_mode": {
    "name": "ipython",
    "version": 3
   },
   "file_extension": ".py",
   "mimetype": "text/x-python",
   "name": "python",
   "nbconvert_exporter": "python",
   "pygments_lexer": "ipython3",
   "version": "3.10.7"
  },
  "orig_nbformat": 4,
  "vscode": {
   "interpreter": {
    "hash": "d823793300cfe8abe3cdd1cfe69844f11b3e6051b9f1b0d0b53f256ec76842e3"
   }
  }
 },
 "nbformat": 4,
 "nbformat_minor": 2
}
