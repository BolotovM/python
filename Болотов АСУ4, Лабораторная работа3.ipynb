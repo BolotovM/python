{
 "cells": [
  {
   "cell_type": "markdown",
   "metadata": {},
   "source": [
    "Лабораторная работа №3\n",
    "Задание 1,2\n",
    "1. Проект по созданию программы, получающей данные с датчика, сохраняющей их в базу данных и строящей тренд значений для анализа.\n",
    "2. Задачи проекта: написать программу получающую данные из определённого массива, создать базу данных в Python с помощью SQLite, построить тренд полученных значений с возможностью просмотра данных за определённые промежутки времени с помощью библиотеки Pandas.\n",
    "3. Цель проекта: создать оператору удобную площадку для просмотра и анализа показаний какой - либо величины (сигналов датчика).\n",
    "4. Функциональные требования: считывание данных из показаний датчика, сохранение их в базу, группировка данных в базе, построение тренда, возможность просмотра тренда за определённые промежутки, анализ данных.\n",
    "5. Входные данные: показания с датчика.\n",
    "6. Выходное воздействие: преобразование и работа с данными.\n"
   ]
  },
  {
   "cell_type": "markdown",
   "metadata": {},
   "source": [
    "Задание 3\n",
    "Инструкция к программе для создания описи датчиков с возможностью её актуализации и просмотра:\n",
    "1. Чтобы занести новый датчик введите: Табельный номер датчика = Sensors('Вид датчика', 'Дата установки датчика', 'Место установки датчика')\n",
    "2. Для получения актуальной информации о датчике введите: information(Табельный номер датчика)\n",
    "3. Для изменения информации о датчике введите: 1. Вид: Табельный номер датчика.setvide('Новый вид')\n",
    "                                               2. Дата установки: Табельный номер датчика.setdata('Новая дата установки')\n",
    "                                               3. Место: Табельный номер датчика.setplace('Новое место установки')\n",
    "4. Виды датчиков: flowmeters - Расходомеры\n",
    "                  level - Датчики уровня\n",
    "                  concentration - Датчики концентрации\n",
    "                  thermomethers - Датчики температуры\n",
    "                  pressure - Датчики давления\n",
    "                  inductive - Индуктивные датчики\n",
    "                  optical - Оптические датчики\n",
    "                  radioactive - Датчики с использованием радиоактивных изотопов криптона (Вес полотна)\n",
    "                  infrared - Инфракрасные датчики (Влажность полотна)\n",
    "                  "
   ]
  },
  {
   "cell_type": "code",
   "execution_count": 27,
   "metadata": {},
   "outputs": [
    {
     "name": "stdout",
     "output_type": "stream",
     "text": [
      "Актуальная информация о датчике: flowmeters 25.09.22 Nakat KDM\n",
      "Вид датчика изменён на optical\n",
      "Актуальная информация о датчике: optical 25.09.22 Nakat KDM\n"
     ]
    }
   ],
   "source": [
    "# Программа для создания описи датчиков с возможностью её актуализации и просмотра\n",
    "\n",
    "class Sensors:                                       # Создание класса \"Датчики\" с функцией присвоения аргументов\n",
    "  def __init__(self, vide, data, place):\n",
    "        self.vide = vide\n",
    "        self.data = data\n",
    "        self.place = place\n",
    "\n",
    "  def setvide(self, vide):                           # Создание функций(методов класса), актуализирующих информацию об объектах класса \n",
    "    self.vide = vide\n",
    "    print('Вид датчика изменён на', vide) \n",
    "\n",
    "  def setdata(self, data):\n",
    "    self.data = data\n",
    "    print('Дата установки датчика изменена на', data) \n",
    "    \n",
    "  def setplace(self, place):\n",
    "    self.place = place\n",
    "    print('Место установки датчика изменено на', place)    \n",
    "\n",
    "def information(self):                               # Создание функции, визуализирующей информацию об объектах \n",
    "  print('Актуальная информация о датчике:', self.vide, self.data, self.place)\n",
    "  \n",
    "# Пример использования программы\n",
    "\n",
    "S1 = Sensors('flowmeters', '10.10.22', 'Nakat KDM')  # Добавление датчика в опись\n",
    "\n",
    "information(S1)                                      # Визуализация данных о датчике\n",
    "\n",
    "S1.setvide('optical')                                # Актуализация данных\n",
    "\n",
    "information(S1)"
   ]
  },
  {
   "cell_type": "code",
   "execution_count": 38,
   "metadata": {},
   "outputs": [
    {
     "name": "stdout",
     "output_type": "stream",
     "text": [
      "<class 'str'>\n",
      "<class 'dict'>\n"
     ]
    }
   ],
   "source": [
    "# Задание 4\n",
    "\n",
    "class Sensors:\n",
    "    vide = ''\n",
    "    data = ''\n",
    "\n",
    "    def __init__(self, vide, data):\n",
    "        self.vide = vide\n",
    "        self.data = data\n",
    "\n",
    "    def __repr__(self):                                # С помощью __repr__ можно возвратить любое представление объекта, как пример, словарь\n",
    "        return {'vide': self.vide, 'data': self.data}\n",
    "\n",
    "    def __str__(self):                                 # С помощью __str__ можно возвратить только строковое значение объекта\n",
    "        return 'Sensors(vide = '+self.vide+', data = '+self.data+')'\n",
    "\n",
    "S1 = Sensors('inductive', '15.10.22')\n",
    "                                           \n",
    "print(type(S1.__str__()))                               # Пример __str__ \n",
    "\n",
    "print(type(S1.__repr__()))                              # Пример __repr__ "
   ]
  },
  {
   "cell_type": "code",
   "execution_count": 22,
   "metadata": {},
   "outputs": [
    {
     "name": "stdout",
     "output_type": "stream",
     "text": [
      "3.06e-05\n"
     ]
    },
    {
     "data": {
      "text/plain": [
       "5000"
      ]
     },
     "execution_count": 22,
     "metadata": {},
     "output_type": "execute_result"
    }
   ],
   "source": [
    "# Задание 5\n",
    "class Convert:\n",
    "    def __init__(self, pascal):                  # Объект класса принимает единственный аргумент \n",
    "            self.pascal = pascal\n",
    "    def __call__(self, kgs):                     # Создание функции которая будет любое число из, условно, Па переводить в КгС/см3\n",
    "            return self.pascal * kgs\n",
    "\n",
    "X = Convert(0.0000102)                           # Запоминает 0.0000102 в своей области видимости\n",
    "print(X(3))                                      # 3 (передано) * 0.0000102 (сохраненное значение)\n",
    "X(100)\n",
    "Y = Convert(1000)                                # Так же можно конвертировать любые дркгие величины с помощью добавления новых экземпляров класса\n",
    "Y(5)\n",
    "\n",
    "\n",
    "\n",
    "\n"
   ]
  },
  {
   "cell_type": "code",
   "execution_count": null,
   "metadata": {},
   "outputs": [],
   "source": []
  }
 ],
 "metadata": {
  "kernelspec": {
   "display_name": "Python 3.10.7 64-bit",
   "language": "python",
   "name": "python3"
  },
  "language_info": {
   "codemirror_mode": {
    "name": "ipython",
    "version": 3
   },
   "file_extension": ".py",
   "mimetype": "text/x-python",
   "name": "python",
   "nbconvert_exporter": "python",
   "pygments_lexer": "ipython3",
   "version": "3.10.7"
  },
  "orig_nbformat": 4,
  "vscode": {
   "interpreter": {
    "hash": "d823793300cfe8abe3cdd1cfe69844f11b3e6051b9f1b0d0b53f256ec76842e3"
   }
  }
 },
 "nbformat": 4,
 "nbformat_minor": 2
}
